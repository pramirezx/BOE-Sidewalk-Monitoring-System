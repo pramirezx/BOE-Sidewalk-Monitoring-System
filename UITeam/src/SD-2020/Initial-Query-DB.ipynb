{
 "cells": [
  {
   "cell_type": "markdown",
   "metadata": {},
   "source": [
    "<h3>1 - Check installed libraries</h3>\n",
    "\n",
    "Run this cell to check if you have pyodbc installed.\n",
    "\n",
    "If the library isn't listed - run cell <b>2 - v1 - Install library</b> or <b>2 - v2 - Install library</b>. \n",
    "\n",
    "Once installed, run this cell again to verify the package was installed. "
   ]
  },
  {
   "cell_type": "code",
   "execution_count": null,
   "metadata": {},
   "outputs": [],
   "source": [
    "pip list"
   ]
  },
  {
   "cell_type": "markdown",
   "metadata": {},
   "source": [
    "<h3>2 - v1 - Install library</h3>\n",
    "\n",
    "Run this cell. If this fails, attempt v2."
   ]
  },
  {
   "cell_type": "code",
   "execution_count": null,
   "metadata": {},
   "outputs": [],
   "source": [
    "import sys\n",
    "!{sys.executable} -m pip install pyodbc"
   ]
  },
  {
   "cell_type": "markdown",
   "metadata": {},
   "source": [
    "<h3>2 - v2 - Install library</h3>\n",
    "\n",
    "Run this cell. If this fails, attempt v1. Just kidding - try installing via Command Line."
   ]
  },
  {
   "cell_type": "code",
   "execution_count": null,
   "metadata": {},
   "outputs": [],
   "source": [
    "import sys\n",
    "!conda install --yes --prefix {sys.prefix} pyodbc"
   ]
  },
  {
   "cell_type": "markdown",
   "metadata": {},
   "source": [
    "<h3>3 - Query DB</h3>\n",
    "\n",
    "If the program throws an error, determine if it is caused by the driver.\n",
    "\n",
    "You can either update the value for the variable <i>driver</i> if you are aware of what version you have or install the latest version of the driver <a href=\"https://docs.microsoft.com/en-us/sql/connect/odbc/download-odbc-driver-for-sql-server?view=sql-server-ver15\">here</a>. "
   ]
  },
  {
   "cell_type": "code",
   "execution_count": null,
   "metadata": {},
   "outputs": [],
   "source": [
    "# Orginal code from Microsoft: https://docs.microsoft.com/en-us/azure/azure-sql/database/connect-query-python?tabs=windows\n",
    "# Minor adjustments made to original code to correctly print data\n",
    "\n",
    "import pyodbc\n",
    "server = '<server name>.database.windows.net' # Provide value in brackets\n",
    "database = '<DB name>' # Provide value in brackets\n",
    "username = '<username - preferred to use read only account>' # Provide value in brackets\n",
    "password = '<password>' # Provide value in brackets\n",
    "driver= '{ODBC Driver 17 for SQL Server}' # Leave as is, only change if driver version is incorrect\n",
    "\n",
    "with pyodbc.connect('DRIVER='+driver+';SERVER='+server+';PORT=1433;DATABASE='+database+';UID='+username+';PWD='+ password) as conn:\n",
    "    with conn.cursor() as cursor:\n",
    "        cursor.execute(\"<SQL query>\") # Provide value in brackets\n",
    "        row = cursor.fetchone()\n",
    "        \n",
    "        while row:\n",
    "            s = ''\n",
    "            \n",
    "            for field in row:\n",
    "                s += str(field) + \" \"\n",
    "            print (s)\n",
    "            \n",
    "            row = cursor.fetchone()\n",
    "            \n",
    "            \n",
    "        # Original code to print results - only printed first two columns from data\n",
    "        \n",
    "#         while row:\n",
    "#             print (str(row[0]) + \" \" + str(row[1]))\n",
    "#             row = cursor.fetchone()"
   ]
  }
 ],
 "metadata": {
  "kernelspec": {
   "display_name": "Python 3",
   "language": "python",
   "name": "python3"
  },
  "language_info": {
   "codemirror_mode": {
    "name": "ipython",
    "version": 3
   },
   "file_extension": ".py",
   "mimetype": "text/x-python",
   "name": "python",
   "nbconvert_exporter": "python",
   "pygments_lexer": "ipython3",
   "version": "3.7.6"
  }
 },
 "nbformat": 4,
 "nbformat_minor": 4
}
